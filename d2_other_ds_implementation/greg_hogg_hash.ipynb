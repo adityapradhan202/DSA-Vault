{
 "cells": [
  {
   "cell_type": "markdown",
   "id": "85da390c",
   "metadata": {},
   "source": [
    "## Hash Table, Hash Map, Hash Set"
   ]
  },
  {
   "cell_type": "markdown",
   "id": "c3110387",
   "metadata": {},
   "source": [
    "### 1. Hash table\n",
    "\n",
    "The concept of hash table is used in the backend of hashset and hashmap. In python, dictionary is the hashmap, and set is the hashset.\n",
    "\n",
    "Hash functions are used in the hash table:  \n",
    "**Hashable python objects:** Strings, Integers, tuples. (Immutable stuff)\n",
    "**Non-hashable python objects:** Arrays/List, dictionarie. (Muttable stuff)\n",
    "\n",
    "Mutable stuff are not hashable, because we can change their values. So, it will be an issue if the value is hashed and stored in the hashtable, and later is changed by us.\n",
    "\n",
    "**Now collisions can happen in hash tables. To handle collisions in hash table we two methods:**  \n",
    "1. Seperate chaining (Using Linkedlist)\n",
    "2. Linear Probing\n"
   ]
  },
  {
   "cell_type": "markdown",
   "id": "d18c2517",
   "metadata": {},
   "source": [
    "### 2. Implementation of Hashset\n",
    "\n",
    "Since, hashtable is used in the backend of hashset, we have constant time complexity O(1) when we are looking up for an element (In most of the cases). Sometimes it can go O(n) because of collision handling, where we either use seperate chaining or linear probing.\n",
    "\n",
    "**Some operations and there complexities are mentioned below:**\n",
    "* Searching - Average is O(1), Worst is O(n) in case of collisions.\n",
    "* Adding - Average is O(1), Worst is O(n) in case of collisions.\n",
    "* Removing - Average is O(1), Worst is O(n) in case of collisions."
   ]
  },
  {
   "cell_type": "code",
   "execution_count": 20,
   "id": "0b53fada",
   "metadata": {},
   "outputs": [
    {
     "name": "stdout",
     "output_type": "stream",
     "text": [
      "{9, 2, 99, 12}\n",
      "False\n",
      "\n",
      "9\n",
      "2\n",
      "99\n",
      "12\n"
     ]
    }
   ],
   "source": [
    "# Creating a hashset\n",
    "s = set()\n",
    "\n",
    "# Adding some elements in set\n",
    "s.add(9)\n",
    "s.add(12)\n",
    "s.add(99)\n",
    "s.add(2)\n",
    "s.add(9)\n",
    "\n",
    "print(s)\n",
    "# We can iterate over set using loops\n",
    "# It's true that set don't have order, but in backend it uses hashtable\n",
    "# For searching - *O(1) (In worst case O(n)), because of the hash table and collision concept\n",
    "if 8 in s:\n",
    "    print(True)\n",
    "else:\n",
    "    print(False)\n",
    "\n",
    "print()\n",
    "# Iteration over the loop does give a time complexity of O(n)\n",
    "for i in s:\n",
    "    print(i)"
   ]
  },
  {
   "cell_type": "code",
   "execution_count": 21,
   "id": "f526a2de",
   "metadata": {},
   "outputs": [
    {
     "name": "stdout",
     "output_type": "stream",
     "text": [
      "{2, 12}\n"
     ]
    }
   ],
   "source": [
    "s.remove(9)\n",
    "s.remove(99)\n",
    "# For removing, in most of the cases O(1), sometimes O(n)\n",
    "print(s)"
   ]
  },
  {
   "cell_type": "code",
   "execution_count": 22,
   "id": "e68a862c",
   "metadata": {},
   "outputs": [
    {
     "name": "stdout",
     "output_type": "stream",
     "text": [
      "{'d', 'b', 'a', 'c'}\n"
     ]
    }
   ],
   "source": [
    "mystr = \"aaaabaaaababababbbcccddd\"\n",
    "myset = set(mystr) # For set construction - Complexity will be O(S), S is length of string\n",
    "print(myset)"
   ]
  },
  {
   "cell_type": "markdown",
   "id": "aa50e6f6",
   "metadata": {},
   "source": [
    "### 3. Implementation of Hashmap\n",
    "Both the hashtable and hashmap are built on hash tables. But the difference is in how they store data.  \n",
    "Hash sets store uniqe values, hasmap stores key value pairs. \n",
    "\n",
    "**Note:** The keys of the hashmap shoulb be hashable.\n",
    "Suppose the key is \"Aditya\" and the value is 99, like \"Aditya\" : 99, and \"Aditya\" is a string, that means it is hashable. Let's assume that after hashing the index we get is 5, then this whole key value pair will be stored as a tuple in the hashtables. **In case of collisions**, linear probing or sperate chaining of the tuples is done."
   ]
  },
  {
   "cell_type": "code",
   "execution_count": 23,
   "id": "f3116d2c",
   "metadata": {},
   "outputs": [
    {
     "name": "stdout",
     "output_type": "stream",
     "text": [
      "{'Goal': 'To be successful in life and enjoy it', 'Thought': 'The masculine urge to learn everything and build stuff', 'Registration number': 338}\n"
     ]
    }
   ],
   "source": [
    "# Creating a hashmap\n",
    "# Hashmaps are nothing but python dictionary\n",
    "\n",
    "hash_map = {\n",
    "    \"Goal\":\"To be successful in life and enjoy it\",\n",
    "    \"Thought\":\"The masculine urge to learn everything and build stuff\",\n",
    "    \"Registration number\":338\n",
    "}\n",
    "\n",
    "print(hash_map)"
   ]
  },
  {
   "cell_type": "code",
   "execution_count": 25,
   "id": "e8f560fe",
   "metadata": {},
   "outputs": [
    {
     "name": "stdout",
     "output_type": "stream",
     "text": [
      "Your ex-girlfriend's name is there in the database.\n"
     ]
    }
   ],
   "source": [
    "marks = {\n",
    "    \"Aditi\":45,\n",
    "    \"Jagirit\":56,\n",
    "    \"Aditya\":89,\n",
    "    \"Tappu\":67\n",
    "}\n",
    "\n",
    "# Searching in hashmap - Generally O(1), sometimes O(n) because of collision handling\n",
    "if \"Tappu\" in marks:\n",
    "    print(\"Your ex-girlfriend's name is there in the database.\")\n",
    "else:\n",
    "    print(\"Name not present\")"
   ]
  },
  {
   "cell_type": "code",
   "execution_count": 26,
   "id": "99b265ed",
   "metadata": {},
   "outputs": [
    {
     "name": "stdout",
     "output_type": "stream",
     "text": [
      "67\n"
     ]
    }
   ],
   "source": [
    "# Fetching the value associated with a key\n",
    "# Generally an O(1) operation\n",
    "\n",
    "print(marks[\"Tappu\"])"
   ]
  },
  {
   "cell_type": "code",
   "execution_count": 31,
   "id": "08936589",
   "metadata": {},
   "outputs": [
    {
     "name": "stdout",
     "output_type": "stream",
     "text": [
      "Aditi <-> 45\n",
      "Jagirit <-> 56\n",
      "Aditya <-> 89\n",
      "Tappu <-> 67\n"
     ]
    }
   ],
   "source": [
    "# Looping over the dictionary is an O(n) operation\n",
    "for k, d in marks.items(): # marks.items gives a list of the tuple of k-v pairs\n",
    "    print(f\"{k} <-> {d}\")"
   ]
  },
  {
   "cell_type": "markdown",
   "id": "3a82d72f",
   "metadata": {},
   "source": [
    "#### 3.1 Default dictionary"
   ]
  },
  {
   "cell_type": "code",
   "execution_count": 37,
   "id": "9f65b73e",
   "metadata": {},
   "outputs": [
    {
     "name": "stdout",
     "output_type": "stream",
     "text": [
      "0\n",
      "3 0\n"
     ]
    }
   ],
   "source": [
    "from collections import defaultdict\n",
    "\n",
    "default = defaultdict(int) \n",
    "\n",
    "# Dictionary will have default value of int dtype at all the keys initially\n",
    "# So if in case we try to access any key that is not present in the dict, it will return the default value\n",
    "# It won't give error\n",
    "\n",
    "print(default[3])\n",
    "for d, k in default.items():\n",
    "    print(d, k)"
   ]
  },
  {
   "cell_type": "code",
   "execution_count": 38,
   "id": "985585a9",
   "metadata": {},
   "outputs": [],
   "source": [
    "default[\"5\"] = 78"
   ]
  },
  {
   "cell_type": "code",
   "execution_count": 40,
   "id": "51d7a161",
   "metadata": {},
   "outputs": [
    {
     "name": "stdout",
     "output_type": "stream",
     "text": [
      "defaultdict(<class 'int'>, {3: 0, '5': 78})\n"
     ]
    }
   ],
   "source": [
    "print(default)\n",
    "# Observe the output\n",
    "# This default list is very helpful in leetcode problems"
   ]
  },
  {
   "cell_type": "markdown",
   "id": "4ae00a46",
   "metadata": {},
   "source": [
    "#### 3.2 Counter"
   ]
  },
  {
   "cell_type": "code",
   "execution_count": 44,
   "id": "94831fb1",
   "metadata": {},
   "outputs": [
    {
     "name": "stdout",
     "output_type": "stream",
     "text": [
      "Counter({'a': 11, 'b': 3, 'w': 3, 'n': 2, 'f': 2, 'e': 2, 'k': 1, 'r': 1, 'q': 1, 'd': 1})\n"
     ]
    }
   ],
   "source": [
    "from collections import Counter\n",
    "\n",
    "sample_str = \"aaaaananabbabafkawawerqwfde\"\n",
    "counter_dict = Counter(sample_str)\n",
    "print(counter_dict)\n",
    "\n",
    "# Note:\n",
    "# In interviews it is recomended not to use the Counter dictionary, it's like a python hack"
   ]
  }
 ],
 "metadata": {
  "kernelspec": {
   "display_name": "Python 3",
   "language": "python",
   "name": "python3"
  },
  "language_info": {
   "codemirror_mode": {
    "name": "ipython",
    "version": 3
   },
   "file_extension": ".py",
   "mimetype": "text/x-python",
   "name": "python",
   "nbconvert_exporter": "python",
   "pygments_lexer": "ipython3",
   "version": "3.12.0"
  }
 },
 "nbformat": 4,
 "nbformat_minor": 5
}
